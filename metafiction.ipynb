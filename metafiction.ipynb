{
 "metadata": {
  "name": "",
  "signature": "sha256:6f5402808ff41f712225452ae571348495a64a93d6d7659276e3ea7ea9fc3b03"
 },
 "nbformat": 3,
 "nbformat_minor": 0,
 "worksheets": [
  {
   "cells": [
    {
     "cell_type": "markdown",
     "metadata": {},
     "source": [
      "# Metafiction\n",
      "\n",
      "Exploring [fanfiction.net](http://fanfiction.net)"
     ]
    },
    {
     "cell_type": "code",
     "collapsed": false,
     "input": [
      "import numpy as np\n",
      "import pandas as pd\n",
      "from pandas import DataFrame, Series\n",
      "import matplotlib.pyplot as plt\n",
      "%matplotlib inline"
     ],
     "language": "python",
     "metadata": {},
     "outputs": [],
     "prompt_number": 1
    },
    {
     "cell_type": "markdown",
     "metadata": {},
     "source": [
      "## setup and data wrangling"
     ]
    },
    {
     "cell_type": "code",
     "collapsed": false,
     "input": [
      "import json\n",
      "\n",
      "metafiction = [json.loads(x) for x in open(\"metafiction.dat\")]\n",
      "len(metafiction)"
     ],
     "language": "python",
     "metadata": {},
     "outputs": [
      {
       "metadata": {},
       "output_type": "pyout",
       "prompt_number": 2,
       "text": [
        "1000"
       ]
      }
     ],
     "prompt_number": 2
    },
    {
     "cell_type": "code",
     "collapsed": false,
     "input": [
      "primary_authors = DataFrame([{\"author\": rec[\"id\"], \"name\": rec[\"name\"]} for rec in metafiction])\n",
      "len(primary_authors)"
     ],
     "language": "python",
     "metadata": {},
     "outputs": [
      {
       "metadata": {},
       "output_type": "pyout",
       "prompt_number": 3,
       "text": [
        "1000"
       ]
      }
     ],
     "prompt_number": 3
    },
    {
     "cell_type": "code",
     "collapsed": false,
     "input": [
      "from itertools import chain\n",
      "\n",
      "favourite_stories_seq = list(chain(*[rec[\"favourite-stories\"] for rec in metafiction]))\n",
      "favourite_story_authors_seq = [story[\"author\"] for story in favourite_stories_seq]\n",
      "favourite_authors_seq = list(chain(*[rec[\"favourite-authors\"] for rec in metafiction]))"
     ],
     "language": "python",
     "metadata": {},
     "outputs": [],
     "prompt_number": 4
    },
    {
     "cell_type": "code",
     "collapsed": false,
     "input": [
      "anon_authors = DataFrame(data=favourite_authors_seq + favourite_story_authors_seq, columns=[\"author\"])\n",
      "len(anon_authors)"
     ],
     "language": "python",
     "metadata": {},
     "outputs": [
      {
       "metadata": {},
       "output_type": "pyout",
       "prompt_number": 5,
       "text": [
        "132760"
       ]
      }
     ],
     "prompt_number": 5
    },
    {
     "cell_type": "code",
     "collapsed": false,
     "input": [
      "authors = pd.concat([primary_authors, anon_authors])\n",
      "authors.drop_duplicates([\"author\"], inplace=True)\n",
      "authors.set_index(\"author\", inplace=True)"
     ],
     "language": "python",
     "metadata": {},
     "outputs": [],
     "prompt_number": 6
    },
    {
     "cell_type": "code",
     "collapsed": false,
     "input": [
      "len(authors)"
     ],
     "language": "python",
     "metadata": {},
     "outputs": [
      {
       "metadata": {},
       "output_type": "pyout",
       "prompt_number": 7,
       "text": [
        "56336"
       ]
      }
     ],
     "prompt_number": 7
    },
    {
     "cell_type": "code",
     "collapsed": false,
     "input": [
      "def story_to_dataframe(stories):\n",
      "    return DataFrame([{\"story\": story[\"id\"], \"author\": story[\"author\"],\n",
      "                       \"title\": story[\"title\"], \"chapters\": story[\"chapters\"],\n",
      "                       \"rating\": story[\"rating\"], \"follows\": story[\"follows\"],\n",
      "                       \"favourites\": story[\"favourites\"], \"words\": story[\"word-count\"],\n",
      "                       \"language\": story[\"language\"], \"completed\": story[\"complete?\"],\n",
      "                       \"genres\": story[\"genres\"], \"categories\": story[\"categories\"],\n",
      "                       \"submitted\": story[\"date-submitted\"],\n",
      "                       \"updated\": story[\"date-updated\"]}\n",
      "                     for story in stories])"
     ],
     "language": "python",
     "metadata": {},
     "outputs": [],
     "prompt_number": 8
    },
    {
     "cell_type": "code",
     "collapsed": false,
     "input": [
      "author_stories = story_to_dataframe(chain(*[rec[\"author-stories\"] for rec in metafiction]))"
     ],
     "language": "python",
     "metadata": {},
     "outputs": [],
     "prompt_number": 9
    },
    {
     "cell_type": "code",
     "collapsed": false,
     "input": [
      "len(author_stories)"
     ],
     "language": "python",
     "metadata": {},
     "outputs": [
      {
       "metadata": {},
       "output_type": "pyout",
       "prompt_number": 10,
       "text": [
        "18620"
       ]
      }
     ],
     "prompt_number": 10
    },
    {
     "cell_type": "code",
     "collapsed": false,
     "input": [
      "favourite_stories = story_to_dataframe(favourite_stories_seq)"
     ],
     "language": "python",
     "metadata": {},
     "outputs": [],
     "prompt_number": 11
    },
    {
     "cell_type": "code",
     "collapsed": false,
     "input": [
      "len(favourite_stories)"
     ],
     "language": "python",
     "metadata": {},
     "outputs": [
      {
       "metadata": {},
       "output_type": "pyout",
       "prompt_number": 12,
       "text": [
        "113917"
       ]
      }
     ],
     "prompt_number": 12
    },
    {
     "cell_type": "code",
     "collapsed": false,
     "input": [
      "stories = pd.concat([author_stories, favourite_stories])\n",
      "stories.drop_duplicates([\"story\"], inplace=True)\n",
      "stories.set_index(\"story\", inplace=True)\n",
      "stories[\"submitted\"] = stories[\"submitted\"].astype(\"datetime64\")\n",
      "stories[\"updated\"] = stories[\"updated\"].astype(\"datetime64\")"
     ],
     "language": "python",
     "metadata": {},
     "outputs": [],
     "prompt_number": 13
    },
    {
     "cell_type": "code",
     "collapsed": false,
     "input": [
      "len(stories)"
     ],
     "language": "python",
     "metadata": {},
     "outputs": [
      {
       "metadata": {},
       "output_type": "pyout",
       "prompt_number": 14,
       "text": [
        "112713"
       ]
      }
     ],
     "prompt_number": 14
    },
    {
     "cell_type": "code",
     "collapsed": false,
     "input": [
      "favourite_authors_seq = list(chain(*[[(rec[\"id\"], fav) \n",
      "                                      for fav in rec[\"favourite-authors\"]] \n",
      "                                     for rec in metafiction]))\n",
      "favourite_authors = DataFrame(favourite_authors_seq, columns=[\"author\", \"favourite_author\"])\n",
      "favourite_authors.set_index(\"author\", inplace=True)"
     ],
     "language": "python",
     "metadata": {},
     "outputs": [],
     "prompt_number": 15
    },
    {
     "cell_type": "code",
     "collapsed": false,
     "input": [
      "len(favourite_authors)"
     ],
     "language": "python",
     "metadata": {},
     "outputs": [
      {
       "metadata": {},
       "output_type": "pyout",
       "prompt_number": 16,
       "text": [
        "18843"
       ]
      }
     ],
     "prompt_number": 16
    },
    {
     "cell_type": "code",
     "collapsed": false,
     "input": [
      "favourite_stories_seq = list(chain(*[[(rec[\"id\"], fav[\"id\"])\n",
      "                                      for fav in rec[\"favourite-stories\"]]\n",
      "                                    for rec in metafiction]))\n",
      "favourite_stories = DataFrame(favourite_stories_seq, columns=[\"author\", \"favourite_story\"])\n",
      "favourite_stories.set_index(\"author\", inplace=True)"
     ],
     "language": "python",
     "metadata": {},
     "outputs": [],
     "prompt_number": 17
    },
    {
     "cell_type": "code",
     "collapsed": false,
     "input": [
      "len(favourite_stories)"
     ],
     "language": "python",
     "metadata": {},
     "outputs": [
      {
       "metadata": {},
       "output_type": "pyout",
       "prompt_number": 18,
       "text": [
        "113917"
       ]
      }
     ],
     "prompt_number": 18
    },
    {
     "cell_type": "code",
     "collapsed": false,
     "input": [
      "genre_seq = sorted(set.union(*[set(g) for g in stories[\"genres\"]]))\n",
      "genres = DataFrame(data=np.zeros((len(stories), len(genre_seq))), columns=genre_seq, index=stories.index)\n",
      "\n",
      "category_seq = sorted(set.union(*[set(g) for g in stories[\"categories\"]]))\n",
      "categories = DataFrame(data=np.zeros((len(stories), len(category_seq))), columns=category_seq, index=stories.index)\n",
      "\n",
      "for story in stories.index:\n",
      "    genres.ix[story, stories.ix[story, \"genres\"]] = 1\n",
      "    categories.ix[story, stories.ix[story, \"categories\"]] = 1"
     ],
     "language": "python",
     "metadata": {},
     "outputs": [],
     "prompt_number": 19
    },
    {
     "cell_type": "markdown",
     "metadata": {},
     "source": [
      "## DataFrames\n",
      "\n",
      "<table>\n",
      "  <tr>\n",
      "    <th>name</th>\n",
      "    <th>description</th>\n",
      "    <th>schema</th>\n",
      "  </tr>\n",
      "  <tr>\n",
      "    <td>`authors`</td>\n",
      "    <td>fanfiction authors</td>\n",
      "    <td>\n",
      "      <ul>\n",
      "      <li><b>id</b> (string::fanfiction author id)</li>\n",
      "        <li>name (string::fanfiction name)</li>\n",
      "      </ul>\n",
      "    </td>\n",
      "  </tr>\n",
      "  <tr>\n",
      "    <td>`stories`</td>\n",
      "    <td>fanfiction stories</td>\n",
      "    <td>\n",
      "      <ul>\n",
      "      <li><b>id</b> (string::fanfiction story id)</li>\n",
      "        <li>author (string::fanfiction author id)</li>\n",
      "        <li>categories ([string]::story categories)</li>\n",
      "        <li>chapters (int::number of chapters)</li>\n",
      "        <li>completed (bool::story completed?)</li>\n",
      "        <li>favourites (int::times favourited)</li>\n",
      "        <li>follows (int::times followed)</li>\n",
      "        <li>genres ([string]::story genres)</li>\n",
      "        <li>language (string::language written in)</li>\n",
      "        <li>rating (string::age rating)</li>\n",
      "        <li>submitted (datetime::when submitted)</li>\n",
      "        <li>title (string::story title)</li>\n",
      "        <li>updated (datetime::when last updated)</li>\n",
      "        <li>words (int::number of words)</li>\n",
      "      </ul>\n",
      "    </td>\n",
      "  </tr>\n",
      "  <tr>\n",
      "    <td>`favourite_authors`</td>\n",
      "    <td>mapping of author id to favourite author ids</td>\n",
      "    <td>\n",
      "      <ul>\n",
      "      <li><b>id</b> (string::fanfiction author id)</li>\n",
      "        <li>favourite_author (string::fanfiction author id)</li>\n",
      "      </ul>\n",
      "    </td>\n",
      "  </tr>\n",
      "  <tr>\n",
      "    <td>`favourite_stories`</td>\n",
      "    <td>mapping of author id to favourite story ids</td>\n",
      "    <td>\n",
      "      <ul>\n",
      "      <li><b>id</b> (string::fanfiction author id)</li>\n",
      "        <li>favourite_story (string::fanfiction story id)</li>\n",
      "      </ul>\n",
      "    </td>\n",
      "  </tr>\n",
      "  <tr>\n",
      "    <td>`genres`</td>\n",
      "    <td>indicator matrix mapping for story id to genres</td>\n",
      "    <td>\n",
      "      <ul>\n",
      "      <li><b>id</b> (string::fanfiction story id)</li>\n",
      "        <li>genre 1 (string::story genre)</li>\n",
      "        <li>genre 2 (string::story genre)</li>\n",
      "        <li>...</li>\n",
      "        <li>genre n (string::story genre)</li>\n",
      "      </ul>\n",
      "    </td>\n",
      "  </tr>\n",
      "  <tr>\n",
      "    <td>`categories`</td>\n",
      "    <td>indicator matrix mapping for story id to categories</td>\n",
      "    <td>\n",
      "      <ul>\n",
      "      <li><b>id</b> (string::fanfiction story id)</li>\n",
      "        <li>category 1 (string::story category)</li>\n",
      "        <li>category 2 (string::story category)</li>\n",
      "        <li>...</li>\n",
      "        <li>category n (string::story category)</li>\n",
      "      </ul>\n",
      "    </td>\n",
      "  </tr>\n",
      "</table>"
     ]
    },
    {
     "cell_type": "code",
     "collapsed": false,
     "input": [],
     "language": "python",
     "metadata": {},
     "outputs": []
    }
   ],
   "metadata": {}
  }
 ]
}