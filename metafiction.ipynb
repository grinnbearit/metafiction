{
 "metadata": {
  "name": "",
  "signature": "sha256:c1ed57993e49ddecf0662743a55a12765c1ac41286c699abf0fc4d4252379d86"
 },
 "nbformat": 3,
 "nbformat_minor": 0,
 "worksheets": [
  {
   "cells": [
    {
     "cell_type": "code",
     "collapsed": false,
     "input": [
      "import numpy as np\n",
      "import pandas as pd\n",
      "from pandas import DataFrame, Series\n",
      "import matplotlib.pyplot as plt\n",
      "%matplotlib inline"
     ],
     "language": "python",
     "metadata": {},
     "outputs": [],
     "prompt_number": 1
    },
    {
     "cell_type": "code",
     "collapsed": false,
     "input": [
      "import json\n",
      "\n",
      "metafiction = [json.loads(x) for x in open(\"metafiction.dat\")]\n",
      "len(metafiction)"
     ],
     "language": "python",
     "metadata": {},
     "outputs": [
      {
       "metadata": {},
       "output_type": "pyout",
       "prompt_number": 2,
       "text": [
        "1000"
       ]
      }
     ],
     "prompt_number": 2
    },
    {
     "cell_type": "code",
     "collapsed": false,
     "input": [
      "primary_authors = DataFrame([{\"author\": rec[\"id\"], \"name\": rec[\"name\"]} for rec in metafiction])\n",
      "len(primary_authors)"
     ],
     "language": "python",
     "metadata": {},
     "outputs": [
      {
       "metadata": {},
       "output_type": "pyout",
       "prompt_number": 30,
       "text": [
        "1000"
       ]
      }
     ],
     "prompt_number": 30
    },
    {
     "cell_type": "code",
     "collapsed": false,
     "input": [
      "from itertools import chain\n",
      "\n",
      "favourite_stories_seq = list(chain(*[rec[\"favourite-stories\"] for rec in metafiction]))\n",
      "favourite_story_authors_seq = [story[\"author\"] for story in favourite_stories_seq]\n",
      "favourite_authors_seq = list(chain(*[rec[\"favourite-authors\"] for rec in metafiction]))"
     ],
     "language": "python",
     "metadata": {},
     "outputs": [],
     "prompt_number": 45
    },
    {
     "cell_type": "code",
     "collapsed": false,
     "input": [
      "anon_authors = DataFrame(data=favourite_authors_seq + favourite_story_authors_seq, columns=[\"author\"])\n",
      "len(anon_authors)"
     ],
     "language": "python",
     "metadata": {},
     "outputs": [
      {
       "metadata": {},
       "output_type": "pyout",
       "prompt_number": 46,
       "text": [
        "132760"
       ]
      }
     ],
     "prompt_number": 46
    },
    {
     "cell_type": "code",
     "collapsed": false,
     "input": [
      "authors = pd.concat([primary_authors, anon_authors])\n",
      "authors.drop_duplicates([\"author\"], inplace=True)\n",
      "authors.set_index(\"author\", inplace=True)"
     ],
     "language": "python",
     "metadata": {},
     "outputs": [],
     "prompt_number": 47
    },
    {
     "cell_type": "code",
     "collapsed": false,
     "input": [
      "len(authors)"
     ],
     "language": "python",
     "metadata": {},
     "outputs": [
      {
       "metadata": {},
       "output_type": "pyout",
       "prompt_number": 48,
       "text": [
        "56336"
       ]
      }
     ],
     "prompt_number": 48
    },
    {
     "cell_type": "code",
     "collapsed": false,
     "input": [
      "def story_to_dataframe(stories):\n",
      "    return DataFrame([{\"story\": story[\"id\"], \"author\": story[\"author\"],\n",
      "                       \"title\": story[\"title\"], \"chapters\": story[\"chapters\"],\n",
      "                       \"rating\": story[\"rating\"], \"follows\": story[\"follows\"],\n",
      "                       \"favourites\": story[\"favourites\"], \"words\": story[\"word-count\"],\n",
      "                       \"language\": story[\"language\"], \"completed\": story[\"complete?\"],\n",
      "                       \"submitted\": story[\"date-submitted\"],\n",
      "                       \"updated\": story[\"date-updated\"]}\n",
      "                     for story in stories])"
     ],
     "language": "python",
     "metadata": {},
     "outputs": [],
     "prompt_number": 49
    },
    {
     "cell_type": "code",
     "collapsed": false,
     "input": [
      "author_stories = story_to_dataframe(chain(*[rec[\"author-stories\"] for rec in metafiction]))"
     ],
     "language": "python",
     "metadata": {},
     "outputs": [],
     "prompt_number": 50
    },
    {
     "cell_type": "code",
     "collapsed": false,
     "input": [
      "len(author_stories)"
     ],
     "language": "python",
     "metadata": {},
     "outputs": [
      {
       "metadata": {},
       "output_type": "pyout",
       "prompt_number": 51,
       "text": [
        "18620"
       ]
      }
     ],
     "prompt_number": 51
    },
    {
     "cell_type": "code",
     "collapsed": false,
     "input": [
      "favourite_stories = story_to_dataframe(favourite_stories_seq)"
     ],
     "language": "python",
     "metadata": {},
     "outputs": [],
     "prompt_number": 52
    },
    {
     "cell_type": "code",
     "collapsed": false,
     "input": [
      "len(favourite_stories)"
     ],
     "language": "python",
     "metadata": {},
     "outputs": [
      {
       "metadata": {},
       "output_type": "pyout",
       "prompt_number": 53,
       "text": [
        "113917"
       ]
      }
     ],
     "prompt_number": 53
    },
    {
     "cell_type": "code",
     "collapsed": false,
     "input": [
      "stories = pd.concat([author_stories, favourite_stories])\n",
      "stories.drop_duplicates([\"story\"], inplace=True)\n",
      "stories.set_index(\"story\", inplace=True)\n",
      "stories[\"submitted\"] = stories[\"submitted\"].astype(\"datetime64\")\n",
      "stories[\"updated\"] = stories[\"updated\"].astype(\"datetime64\")"
     ],
     "language": "python",
     "metadata": {},
     "outputs": [],
     "prompt_number": 54
    },
    {
     "cell_type": "code",
     "collapsed": false,
     "input": [
      "len(stories)"
     ],
     "language": "python",
     "metadata": {},
     "outputs": [
      {
       "metadata": {},
       "output_type": "pyout",
       "prompt_number": 55,
       "text": [
        "112713"
       ]
      }
     ],
     "prompt_number": 55
    },
    {
     "cell_type": "code",
     "collapsed": false,
     "input": [],
     "language": "python",
     "metadata": {},
     "outputs": []
    }
   ],
   "metadata": {}
  }
 ]
}