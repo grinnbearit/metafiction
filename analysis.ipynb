{
 "metadata": {
  "name": "",
  "signature": "sha256:6cc908d2dcaf41af62c7e332243b94f6183d4903b099c88aa3f1a27927520281"
 },
 "nbformat": 3,
 "nbformat_minor": 0,
 "worksheets": [
  {
   "cells": [
    {
     "cell_type": "markdown",
     "metadata": {},
     "source": [
      "# Metafiction\n",
      "\n",
      "Exploring [fanfiction.net](http://fanfiction.net)"
     ]
    },
    {
     "cell_type": "code",
     "collapsed": false,
     "input": [
      "import numpy as np\n",
      "import pandas as pd\n",
      "from pandas import DataFrame, Series\n",
      "import matplotlib.pyplot as plt\n",
      "%matplotlib inline"
     ],
     "language": "python",
     "metadata": {},
     "outputs": [],
     "prompt_number": 1
    },
    {
     "cell_type": "markdown",
     "metadata": {},
     "source": [
      "## metafiction analysis"
     ]
    },
    {
     "cell_type": "code",
     "collapsed": false,
     "input": [
      "%run 'wrangling.ipynb'"
     ],
     "language": "python",
     "metadata": {},
     "outputs": [],
     "prompt_number": 2
    },
    {
     "cell_type": "markdown",
     "metadata": {},
     "source": [
      "## DataFrames\n",
      "\n",
      "<table>\n",
      "  <tr>\n",
      "    <th>name</th>\n",
      "    <th>description</th>\n",
      "    <th>schema</th>\n",
      "  </tr>\n",
      "  <tr>\n",
      "    <td>`authors`</td>\n",
      "    <td>fanfiction authors</td>\n",
      "    <td>\n",
      "      <ul>\n",
      "      <li><b>id</b> (string::fanfiction author id)</li>\n",
      "        <li>name (string::fanfiction name)</li>\n",
      "      </ul>\n",
      "    </td>\n",
      "  </tr>\n",
      "  <tr>\n",
      "    <td>`stories`</td>\n",
      "    <td>fanfiction stories</td>\n",
      "    <td>\n",
      "      <ul>\n",
      "      <li><b>id</b> (string::fanfiction story id)</li>\n",
      "        <li>author (string::fanfiction author id)</li>\n",
      "        <li>categories ([string]::story categories)</li>\n",
      "        <li>chapters (int::number of chapters)</li>\n",
      "        <li>completed (bool::story completed?)</li>\n",
      "        <li>favourites (int::times favourited)</li>\n",
      "        <li>follows (int::times followed)</li>\n",
      "        <li>genres ([string]::story genres)</li>\n",
      "        <li>language (string::language written in)</li>\n",
      "        <li>rating (string::age rating)</li>\n",
      "        <li>submitted (datetime::when submitted)</li>\n",
      "        <li>title (string::story title)</li>\n",
      "        <li>updated (datetime::when last updated)</li>\n",
      "        <li>words (int::number of words)</li>\n",
      "      </ul>\n",
      "    </td>\n",
      "  </tr>\n",
      "  <tr>\n",
      "    <td>`favourite_authors`</td>\n",
      "    <td>mapping of author id to favourite author ids</td>\n",
      "    <td>\n",
      "      <ul>\n",
      "      <li><b>id</b> (string::fanfiction author id)</li>\n",
      "        <li>favourite_author (string::fanfiction author id)</li>\n",
      "      </ul>\n",
      "    </td>\n",
      "  </tr>\n",
      "  <tr>\n",
      "    <td>`favourite_stories`</td>\n",
      "    <td>mapping of author id to favourite story ids</td>\n",
      "    <td>\n",
      "      <ul>\n",
      "      <li><b>id</b> (string::fanfiction author id)</li>\n",
      "        <li>favourite_story (string::fanfiction story id)</li>\n",
      "      </ul>\n",
      "    </td>\n",
      "  </tr>\n",
      "  <tr>\n",
      "    <td>`genres`</td>\n",
      "    <td>indicator matrix mapping for story id to genres</td>\n",
      "    <td>\n",
      "      <ul>\n",
      "      <li><b>id</b> (string::fanfiction story id)</li>\n",
      "        <li>genre 1 (string::story genre)</li>\n",
      "        <li>genre 2 (string::story genre)</li>\n",
      "        <li>...</li>\n",
      "        <li>genre n (string::story genre)</li>\n",
      "      </ul>\n",
      "    </td>\n",
      "  </tr>\n",
      "  <tr>\n",
      "    <td>`categories`</td>\n",
      "    <td>indicator matrix mapping for story id to categories</td>\n",
      "    <td>\n",
      "      <ul>\n",
      "      <li><b>id</b> (string::fanfiction story id)</li>\n",
      "        <li>category 1 (string::story category)</li>\n",
      "        <li>category 2 (string::story category)</li>\n",
      "        <li>...</li>\n",
      "        <li>category n (string::story category)</li>\n",
      "      </ul>\n",
      "    </td>\n",
      "  </tr>\n",
      "</table>"
     ]
    },
    {
     "cell_type": "code",
     "collapsed": false,
     "input": [],
     "language": "python",
     "metadata": {},
     "outputs": []
    }
   ],
   "metadata": {}
  }
 ]
}