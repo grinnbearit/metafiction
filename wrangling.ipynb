{
 "metadata": {
  "name": "",
  "signature": "sha256:72acfb1dc8c3c23de7ea29bc6657b0c0d2d12686906dbc9e5f440602a23e820f"
 },
 "nbformat": 3,
 "nbformat_minor": 0,
 "worksheets": [
  {
   "cells": [
    {
     "cell_type": "markdown",
     "metadata": {},
     "source": [
      "# Metafiction\n",
      "## Data Wrangling"
     ]
    },
    {
     "cell_type": "code",
     "collapsed": false,
     "input": [
      "import numpy as np\n",
      "import pandas as pd\n",
      "from pandas import DataFrame, Series\n",
      "import matplotlib.pyplot as plt\n",
      "%matplotlib inline"
     ],
     "language": "python",
     "metadata": {},
     "outputs": [],
     "prompt_number": 1
    },
    {
     "cell_type": "code",
     "collapsed": false,
     "input": [
      "import json\n",
      "\n",
      "metafiction = [json.loads(x) for x in open(\"metafiction.dat\")]\n",
      "len(metafiction)"
     ],
     "language": "python",
     "metadata": {},
     "outputs": [
      {
       "metadata": {},
       "output_type": "pyout",
       "prompt_number": 2,
       "text": [
        "1000"
       ]
      }
     ],
     "prompt_number": 2
    },
    {
     "cell_type": "markdown",
     "metadata": {},
     "source": [
      "### authors"
     ]
    },
    {
     "cell_type": "code",
     "collapsed": false,
     "input": [
      "author_list = [{\"author\": rec[\"id\"], \"name\": rec[\"name\"]} for rec in metafiction]\n",
      "\n",
      "len(author_list)"
     ],
     "language": "python",
     "metadata": {},
     "outputs": [
      {
       "metadata": {},
       "output_type": "pyout",
       "prompt_number": 3,
       "text": [
        "1000"
       ]
      }
     ],
     "prompt_number": 3
    },
    {
     "cell_type": "code",
     "collapsed": false,
     "input": [
      "for record in metafiction:\n",
      "    for story in record[\"favourite-stories\"]:\n",
      "        author_list.append({\"author\": story[\"author\"]})\n",
      "    for author in record[\"favourite-authors\"]:\n",
      "        author_list.append({\"author\": author})\n",
      "\n",
      "len(author_list)"
     ],
     "language": "python",
     "metadata": {},
     "outputs": [
      {
       "metadata": {},
       "output_type": "pyout",
       "prompt_number": 4,
       "text": [
        "119057"
       ]
      }
     ],
     "prompt_number": 4
    },
    {
     "cell_type": "code",
     "collapsed": false,
     "input": [
      "authors = DataFrame(author_list)\n",
      "authors.drop_duplicates([\"author\"], inplace=True)\n",
      "authors.set_index([\"author\"], inplace=True)\n",
      "\n",
      "len(authors)"
     ],
     "language": "python",
     "metadata": {},
     "outputs": [
      {
       "metadata": {},
       "output_type": "pyout",
       "prompt_number": 5,
       "text": [
        "53266"
       ]
      }
     ],
     "prompt_number": 5
    },
    {
     "cell_type": "markdown",
     "metadata": {},
     "source": [
      "## stories"
     ]
    },
    {
     "cell_type": "code",
     "collapsed": false,
     "input": [
      "story_list = []\n",
      "\n",
      "for record in metafiction:\n",
      "    story_list.extend(record[\"author-stories\"])\n",
      "    story_list.extend(record[\"favourite-stories\"])\n",
      "\n",
      "len(story_list)"
     ],
     "language": "python",
     "metadata": {},
     "outputs": [
      {
       "metadata": {},
       "output_type": "pyout",
       "prompt_number": 6,
       "text": [
        "121920"
       ]
      }
     ],
     "prompt_number": 6
    },
    {
     "cell_type": "code",
     "collapsed": false,
     "input": [
      "stories = DataFrame(story_list)\n",
      "\n",
      "## rename columns\n",
      "columns = stories.columns.values\n",
      "columns[3] = u\"is_complete\"\n",
      "columns[4] = u\"submitted\"\n",
      "columns[5] = u\"updated\"\n",
      "columns[9] = u\"story\"\n",
      "stories.columns = columns \n",
      "\n",
      "stories.drop_duplicates([\"story\"], inplace=True)\n",
      "stories.set_index(\"story\", inplace=True)\n",
      "stories[\"submitted\"] = stories[\"submitted\"].astype(\"datetime64\")\n",
      "stories[\"updated\"] = stories[\"updated\"].astype(\"datetime64\")\n",
      "\n",
      "len(stories)"
     ],
     "language": "python",
     "metadata": {},
     "outputs": [
      {
       "metadata": {},
       "output_type": "pyout",
       "prompt_number": 7,
       "text": [
        "106173"
       ]
      }
     ],
     "prompt_number": 7
    },
    {
     "cell_type": "markdown",
     "metadata": {},
     "source": [
      "## favourites"
     ]
    },
    {
     "cell_type": "code",
     "collapsed": false,
     "input": [
      "favourite_author_list = []\n",
      "favourite_story_list = []\n",
      "\n",
      "for record in metafiction:\n",
      "    for author in record[\"favourite-authors\"]:\n",
      "        favourite_author_list.append({\"author\": record[\"id\"],\n",
      "                                      \"favourite_author\": author})\n",
      "    for story in record[\"favourite-stories\"]:\n",
      "        favourite_story_list.append({\"author\": record[\"id\"],\n",
      "                                     \"favourite_story\": story[\"id\"]})\n",
      "        \n",
      "(len(favourite_author_list), len(favourite_story_list))"
     ],
     "language": "python",
     "metadata": {},
     "outputs": [
      {
       "metadata": {},
       "output_type": "pyout",
       "prompt_number": 8,
       "text": [
        "(15490, 102567)"
       ]
      }
     ],
     "prompt_number": 8
    },
    {
     "cell_type": "code",
     "collapsed": false,
     "input": [
      "favourite_authors = DataFrame(favourite_author_list)\n",
      "favourite_authors.set_index(\"author\", inplace=True)\n",
      "\n",
      "favourite_stories = DataFrame(favourite_story_list)\n",
      "favourite_stories.set_index(\"author\", inplace=True)"
     ],
     "language": "python",
     "metadata": {},
     "outputs": [],
     "prompt_number": 9
    },
    {
     "cell_type": "markdown",
     "metadata": {},
     "source": [
      "## genres and categories"
     ]
    },
    {
     "cell_type": "code",
     "collapsed": false,
     "input": [
      "genre_list = sorted(set.union(*[set(g) for g in stories[\"genres\"]]))\n",
      "genres = DataFrame(data=np.zeros((len(stories), len(genre_list))), columns=genre_list, index=stories.index)\n",
      "\n",
      "category_list = sorted(set.union(*[set(c) for c in stories[\"categories\"]]))\n",
      "categories = DataFrame(data=np.zeros((len(stories), len(category_list))), columns=category_list, index=stories.index)\n",
      "\n",
      "for story in stories.index:\n",
      "    genres.ix[story, stories.ix[story, \"genres\"]] = 1\n",
      "    categories.ix[story, stories.ix[story, \"categories\"]] = 1"
     ],
     "language": "python",
     "metadata": {},
     "outputs": [],
     "prompt_number": 10
    }
   ],
   "metadata": {}
  }
 ]
}